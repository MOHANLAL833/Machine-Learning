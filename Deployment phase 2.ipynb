{
 "cells": [
  {
   "cell_type": "code",
   "execution_count": 1,
   "id": "d57612d5-0827-4551-bfe4-67c306156a74",
   "metadata": {},
   "outputs": [],
   "source": [
    "#once the best model is saved it needs to implemented in a application and it is Deployment phase\n",
    "#Importing the pickle library to load the saved file\n",
    "import pickle"
   ]
  },
  {
   "cell_type": "code",
   "execution_count": 7,
   "id": "be9cb147-ca3a-4369-8ac1-79bf00200182",
   "metadata": {},
   "outputs": [
    {
     "name": "stderr",
     "output_type": "stream",
     "text": [
      "C:\\Users\\MOHANLAL\\anaconda3\\Lib\\site-packages\\sklearn\\base.py:493: UserWarning: X does not have valid feature names, but LinearRegression was fitted with feature names\n",
      "  warnings.warn(\n"
     ]
    }
   ],
   "source": [
    "# The final saved model is loaded and the input is passed to predict the output of the model\n",
    "loaded_model=pickle.load(open(\"finalmodel_linear.sav\",'rb'))\n",
    "result=loaded_model.predict([[0]])"
   ]
  },
  {
   "cell_type": "code",
   "execution_count": 9,
   "id": "3efcb690-e4c2-4cdc-bbcc-5f966769212c",
   "metadata": {},
   "outputs": [
    {
     "data": {
      "text/plain": [
       "array([[26777.3913412]])"
      ]
     },
     "execution_count": 9,
     "metadata": {},
     "output_type": "execute_result"
    }
   ],
   "source": [
    "result\n",
    "#In this result the output of the candidate with 0 year experience is the Bias that we have calculated in the model training\n",
    "#because in the dataset there is no data available for a condidate with 0 years experince"
   ]
  },
  {
   "cell_type": "code",
   "execution_count": null,
   "id": "99ae92e1-aeec-43c8-bce0-ff8c59f28982",
   "metadata": {},
   "outputs": [],
   "source": []
  }
 ],
 "metadata": {
  "kernelspec": {
   "display_name": "Python 3 (ipykernel)",
   "language": "python",
   "name": "python3"
  },
  "language_info": {
   "codemirror_mode": {
    "name": "ipython",
    "version": 3
   },
   "file_extension": ".py",
   "mimetype": "text/x-python",
   "name": "python",
   "nbconvert_exporter": "python",
   "pygments_lexer": "ipython3",
   "version": "3.12.4"
  }
 },
 "nbformat": 4,
 "nbformat_minor": 5
}
